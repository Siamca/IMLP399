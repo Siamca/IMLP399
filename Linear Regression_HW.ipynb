{
 "cells": [
  {
   "cell_type": "markdown",
   "metadata": {},
   "source": [
    "## 基礎題 - 算出斜率w與截距b\n",
    "\n",
    "y = wx + b\n",
    "\n",
    "記得計算前X須符合資料格式\n",
    "$$[x_1, x_2, \\ldots, x_{50}]$$\n",
    "\n",
    "==> \n",
    "\n",
    "$$[[x_1], [x_2], \\ldots, [x_{50}]]$$"
   ]
  },
  {
   "cell_type": "code",
   "execution_count": 4,
   "metadata": {},
   "outputs": [],
   "source": [
    "%matplotlib inline\n",
    "import numpy as np\n",
    "import matplotlib.pyplot as plt"
   ]
  },
  {
   "cell_type": "code",
   "execution_count": 5,
   "metadata": {},
   "outputs": [],
   "source": [
    "x = np.array([ 0.        ,  0.20408163,  0.40816327,  0.6122449 ,  0.81632653,\n",
    "        1.02040816,  1.2244898 ,  1.42857143,  1.63265306,  1.83673469,\n",
    "        2.04081633,  2.24489796,  2.44897959,  2.65306122,  2.85714286,\n",
    "        3.06122449,  3.26530612,  3.46938776,  3.67346939,  3.87755102,\n",
    "        4.08163265,  4.28571429,  4.48979592,  4.69387755,  4.89795918,\n",
    "        5.10204082,  5.30612245,  5.51020408,  5.71428571,  5.91836735,\n",
    "        6.12244898,  6.32653061,  6.53061224,  6.73469388,  6.93877551,\n",
    "        7.14285714,  7.34693878,  7.55102041,  7.75510204,  7.95918367,\n",
    "        8.16326531,  8.36734694,  8.57142857,  8.7755102 ,  8.97959184,\n",
    "        9.18367347,  9.3877551 ,  9.59183673,  9.79591837, 10.        ])\n",
    "y = np.array([ 0.85848224, -0.10657947,  1.42771901,  0.53554778,  1.20216826,\n",
    "        1.81330509,  1.88362644,  2.23557653,  2.7384889 ,  3.41174583,\n",
    "        4.08573636,  3.82529502,  4.39723111,  4.8852381 ,  4.70092778,\n",
    "        4.66993962,  6.05133235,  5.44529881,  7.22571332,  6.79423911,\n",
    "        7.05424438,  7.00413058,  7.98149596,  7.00044008,  7.95903855,\n",
    "        9.96125238,  9.06040794,  9.56018295,  9.30035956,  9.26517614,\n",
    "        9.56401824, 10.07659844, 11.56755942, 11.38956185, 11.83586027,\n",
    "       12.45642786, 11.58403954, 11.60186428, 13.88486667, 13.35550112,\n",
    "       13.93938726, 13.31678277, 13.69551472, 14.76548676, 14.81731598,\n",
    "       14.9659187 , 15.19213921, 15.28195017, 15.97997265, 16.41258817])"
   ]
  },
  {
   "cell_type": "code",
   "execution_count": 9,
   "metadata": {},
   "outputs": [
    {
     "name": "stdout",
     "output_type": "stream",
     "text": [
      "(50,)\n"
     ]
    },
    {
     "data": {
      "text/plain": [
       "(50, 1)"
      ]
     },
     "execution_count": 9,
     "metadata": {},
     "output_type": "execute_result"
    }
   ],
   "source": [
    "#匯入在sklearn.linear_model套件裡面的LinearRegression模型\n",
    "from sklearn.linear_model import LinearRegression\n",
    "regr = LinearRegression()\n",
    "#注意轉換x得格式1D->2D\n",
    "print(x.shape)\n",
    "X = x.reshape(-1,1)\n",
    "X.shape\n",
    "#將模型工具指派給一變數做使用\n",
    "#注意轉換x得格式1D->2D\n",
    "#將x,y資料導入LinearRegression演算法做訓練\n",
    "#列印出訓練完成之函數的斜率與截距"
   ]
  },
  {
   "cell_type": "code",
   "execution_count": 11,
   "metadata": {},
   "outputs": [
    {
     "name": "stdout",
     "output_type": "stream",
     "text": [
      "[ 0.27312969  0.60313347  0.93313726  1.26314103  1.59314481  1.92314858\n",
      "  2.25315238  2.58315615  2.91315993  3.2431637   3.57316749  3.90317127\n",
      "  4.23317504  4.56317882  4.89318261  5.22318639  5.55319016  5.88319395\n",
      "  6.21319773  6.54320151  6.87320528  7.20320907  7.53321285  7.86321662\n",
      "  8.1932204   8.52322419  8.85322797  9.18323174  9.51323552  9.84323931\n",
      " 10.17324309 10.50324686 10.83325064 11.16325443 11.4932582  11.82326198\n",
      " 12.15326577 12.48326955 12.81327332 13.1432771  13.47328089 13.80328467\n",
      " 14.13328844 14.46329222 14.79329601 15.12329978 15.45330356 15.78330733\n",
      " 16.11331113 16.4433149 ]\n"
     ]
    }
   ],
   "source": [
    "#將x,y資料導入LinearRegression演算法做訓練\n",
    "regr.fit(X,y)\n",
    "Y = regr.predict(X)\n",
    "print(Y)"
   ]
  },
  {
   "cell_type": "code",
   "execution_count": 12,
   "metadata": {},
   "outputs": [
    {
     "data": {
      "text/plain": [
       "array([1.61701852])"
      ]
     },
     "execution_count": 12,
     "metadata": {},
     "output_type": "execute_result"
    }
   ],
   "source": [
    "#列印出訓練完成之函數的斜率與截距\n",
    "#Y=WX+b\n",
    "W=regr.coef_#斜率\n",
    "W"
   ]
  },
  {
   "cell_type": "code",
   "execution_count": 13,
   "metadata": {},
   "outputs": [
    {
     "data": {
      "text/plain": [
       "0.27312968949421723"
      ]
     },
     "execution_count": 13,
     "metadata": {},
     "output_type": "execute_result"
    }
   ],
   "source": [
    "b=regr.intercept_ #截距\n",
    "b"
   ]
  },
  {
   "cell_type": "code",
   "execution_count": 15,
   "metadata": {},
   "outputs": [
    {
     "data": {
      "text/plain": [
       "array([16.4433149])"
      ]
     },
     "execution_count": 15,
     "metadata": {},
     "output_type": "execute_result"
    }
   ],
   "source": [
    "#將模型工具指派給一變數做使用\n",
    "W*10+b"
   ]
  },
  {
   "cell_type": "code",
   "execution_count": 16,
   "metadata": {},
   "outputs": [
    {
     "data": {
      "text/plain": [
       "array([ 0.85848224, -0.10657947,  1.42771901,  0.53554778,  1.20216826,\n",
       "        1.81330509,  1.88362644,  2.23557653,  2.7384889 ,  3.41174583,\n",
       "        4.08573636,  3.82529502,  4.39723111,  4.8852381 ,  4.70092778,\n",
       "        4.66993962,  6.05133235,  5.44529881,  7.22571332,  6.79423911,\n",
       "        7.05424438,  7.00413058,  7.98149596,  7.00044008,  7.95903855,\n",
       "        9.96125238,  9.06040794,  9.56018295,  9.30035956,  9.26517614,\n",
       "        9.56401824, 10.07659844, 11.56755942, 11.38956185, 11.83586027,\n",
       "       12.45642786, 11.58403954, 11.60186428, 13.88486667, 13.35550112,\n",
       "       13.93938726, 13.31678277, 13.69551472, 14.76548676, 14.81731598,\n",
       "       14.9659187 , 15.19213921, 15.28195017, 15.97997265, 16.41258817])"
      ]
     },
     "execution_count": 16,
     "metadata": {},
     "output_type": "execute_result"
    }
   ],
   "source": [
    "y\n"
   ]
  },
  {
   "cell_type": "markdown",
   "metadata": {},
   "source": [
    "## 進階題 - 切割資料集分別做訓練與預測(訓練資料80%、測試資料20%)\n"
   ]
  },
  {
   "cell_type": "code",
   "execution_count": 21,
   "metadata": {},
   "outputs": [],
   "source": [
    "%matplotlib inline\n",
    "import numpy as np\n",
    "import matplotlib.pyplot as plt\n",
    "\n",
    "x = np.array([ 0.        ,  0.20408163,  0.40816327,  0.6122449 ,  0.81632653,\n",
    "        1.02040816,  1.2244898 ,  1.42857143,  1.63265306,  1.83673469,\n",
    "        2.04081633,  2.24489796,  2.44897959,  2.65306122,  2.85714286,\n",
    "        3.06122449,  3.26530612,  3.46938776,  3.67346939,  3.87755102,\n",
    "        4.08163265,  4.28571429,  4.48979592,  4.69387755,  4.89795918,\n",
    "        5.10204082,  5.30612245,  5.51020408,  5.71428571,  5.91836735,\n",
    "        6.12244898,  6.32653061,  6.53061224,  6.73469388,  6.93877551,\n",
    "        7.14285714,  7.34693878,  7.55102041,  7.75510204,  7.95918367,\n",
    "        8.16326531,  8.36734694,  8.57142857,  8.7755102 ,  8.97959184,\n",
    "        9.18367347,  9.3877551 ,  9.59183673,  9.79591837, 10.        ])\n",
    "y = np.array([ 0.85848224, -0.10657947,  1.42771901,  0.53554778,  1.20216826,\n",
    "        1.81330509,  1.88362644,  2.23557653,  2.7384889 ,  3.41174583,\n",
    "        4.08573636,  3.82529502,  4.39723111,  4.8852381 ,  4.70092778,\n",
    "        4.66993962,  6.05133235,  5.44529881,  7.22571332,  6.79423911,\n",
    "        7.05424438,  7.00413058,  7.98149596,  7.00044008,  7.95903855,\n",
    "        9.96125238,  9.06040794,  9.56018295,  9.30035956,  9.26517614,\n",
    "        9.56401824, 10.07659844, 11.56755942, 11.38956185, 11.83586027,\n",
    "       12.45642786, 11.58403954, 11.60186428, 13.88486667, 13.35550112,\n",
    "       13.93938726, 13.31678277, 13.69551472, 14.76548676, 14.81731598,\n",
    "       14.9659187 , 15.19213921, 15.28195017, 15.97997265, 16.41258817])\n"
   ]
  },
  {
   "cell_type": "code",
   "execution_count": 22,
   "metadata": {},
   "outputs": [],
   "source": [
    "#匯入在sklearn.linear_model套件裡面的LinearRegression模型\n",
    "#匯入在sklearn.model_selection套件裡面的train_test_split模組\n",
    "#切割數據集(訓練資料80%、測試資料20%，設定random_state=20)\n",
    "#畫出訓練資料集的matplotlib圖形m"
   ]
  },
  {
   "cell_type": "code",
   "execution_count": 23,
   "metadata": {},
   "outputs": [],
   "source": [
    "from sklearn.model_selection import train_test_split\n",
    "from sklearn.linear_model import LinearRegression"
   ]
  },
  {
   "cell_type": "code",
   "execution_count": 24,
   "metadata": {},
   "outputs": [
    {
     "name": "stdout",
     "output_type": "stream",
     "text": [
      "[ 8.16326531  3.46938776  3.67346939  0.          5.51020408  6.73469388\n",
      "  7.34693878  8.57142857  2.04081633  0.6122449   8.36734694  2.65306122\n",
      "  9.3877551   0.40816327  7.75510204  7.95918367  1.02040816  8.7755102\n",
      "  7.55102041  6.12244898  1.2244898   5.91836735  3.26530612  3.87755102\n",
      " 10.          8.97959184  4.28571429  6.53061224  6.93877551  1.42857143\n",
      "  4.48979592  2.24489796  4.08163265  1.83673469  9.79591837  5.71428571\n",
      "  6.32653061  3.06122449  5.30612245  7.14285714]\n"
     ]
    }
   ],
   "source": [
    "x_train, x_test, y_train, y_test = train_test_split(x, y, test_size=0.2, random_state=20)\n",
    "print(x_train)"
   ]
  },
  {
   "cell_type": "code",
   "execution_count": 25,
   "metadata": {},
   "outputs": [
    {
     "data": {
      "text/plain": [
       "array([ 0.85848224, -0.10657947,  1.42771901,  0.53554778,  1.20216826,\n",
       "        1.81330509,  1.88362644,  2.23557653,  2.7384889 ,  3.41174583,\n",
       "        4.08573636,  3.82529502,  4.39723111,  4.8852381 ,  4.70092778,\n",
       "        4.66993962,  6.05133235,  5.44529881,  7.22571332,  6.79423911,\n",
       "        7.05424438,  7.00413058,  7.98149596,  7.00044008,  7.95903855,\n",
       "        9.96125238,  9.06040794,  9.56018295,  9.30035956,  9.26517614,\n",
       "        9.56401824, 10.07659844, 11.56755942, 11.38956185, 11.83586027,\n",
       "       12.45642786, 11.58403954, 11.60186428, 13.88486667, 13.35550112,\n",
       "       13.93938726, 13.31678277, 13.69551472, 14.76548676, 14.81731598,\n",
       "       14.9659187 , 15.19213921, 15.28195017, 15.97997265, 16.41258817])"
      ]
     },
     "execution_count": 25,
     "metadata": {},
     "output_type": "execute_result"
    }
   ],
   "source": [
    "y"
   ]
  },
  {
   "cell_type": "code",
   "execution_count": 20,
   "metadata": {},
   "outputs": [
    {
     "data": {
      "text/plain": [
       "<matplotlib.collections.PathCollection at 0x2d2e85ab910>"
      ]
     },
     "execution_count": 20,
     "metadata": {},
     "output_type": "execute_result"
    },
    {
     "data": {
      "image/png": "[encoded data removed]",
      "text/plain": [
       "<Figure size 640x480 with 1 Axes>"
      ]
     },
     "metadata": {},
     "output_type": "display_data"
    }
   ],
   "source": [
    "plt.scatter(x_train, y_train)"
   ]
  },
  {
   "cell_type": "markdown",
   "metadata": {},
   "source": [
    "## 用訓練資料來 fit 函數\n",
    "1. 只用訓練資料集的資料進行linear regression演算法<br>\n",
    "2. 並計算出訓練階段的MSE\n",
    "3. 畫出目標點(藍色)與預測點(紅色)的對應圖\n",
    "![](images/LR_train.PNG)"
   ]
  },
  {
   "cell_type": "code",
   "execution_count": 26,
   "metadata": {},
   "outputs": [
    {
     "name": "stdout",
     "output_type": "stream",
     "text": [
      "Coefficients:  [1.60659227]\n",
      "interception:  0.36802581786862376\n"
     ]
    }
   ],
   "source": [
    "regr = LinearRegression()\n",
    "X_train = x_train.reshape(-1,1)\n",
    "regr.fit(X_train,y_train)\n",
    "print('Coefficients: ', regr.coef_)\n",
    "print('interception: ', regr.intercept_)"
   ]
  },
  {
   "cell_type": "code",
   "execution_count": 29,
   "metadata": {},
   "outputs": [
    {
     "name": "stdout",
     "output_type": "stream",
     "text": [
      "0.2284495300761316\n"
     ]
    }
   ],
   "source": [
    "Y_train = regr.predict(X_train)\n",
    "mse = np.sum((Y_train-y_train)**2) / len(y_train)\n",
    "print(mse)"
   ]
  },
  {
   "cell_type": "code",
   "execution_count": 30,
   "metadata": {},
   "outputs": [
    {
     "data": {
      "text/plain": [
       "[<matplotlib.lines.Line2D at 0x2d2e8682250>]"
      ]
     },
     "execution_count": 30,
     "metadata": {},
     "output_type": "execute_result"
    },
    {
     "data": {
      "image/png": "[encoded data removed]",
      "text/plain": [
       "<Figure size 640x480 with 1 Axes>"
      ]
     },
     "metadata": {},
     "output_type": "display_data"
    }
   ],
   "source": [
    "plt.scatter(x_train, y_train)\n",
    "plt.plot(x_train, Y_train, 'r')"
   ]
  },
  {
   "cell_type": "markdown",
   "metadata": {},
   "source": [
    "## 將訓練出來的函數預測測試集的X值\n",
    "1. 使用剛剛訓練出來的模型進行測試資料集的資料預測*注意reshape<br>\n",
    "使用X = 2.44897959，預測出來數值應該為 4.3025375<br>\n",
    "所有測試集資料\n",
    "$$\\widehat{y}=xw+b=w_{1}x_{1}+b$$"
   ]
  },
  {
   "cell_type": "code",
   "execution_count": 31,
   "metadata": {},
   "outputs": [
    {
     "name": "stdout",
     "output_type": "stream",
     "text": [
      "[ 4.3025375   4.95828946  1.67952971  2.99103361 15.12244466  0.69590179\n",
      "  8.56492518  8.23704919 15.7781966   7.90917322]\n"
     ]
    }
   ],
   "source": [
    "X_test = x_test.reshape(-1,1)\n",
    "Y_test = regr.predict(X_test)\n",
    "print(Y_test)"
   ]
  },
  {
   "cell_type": "code",
   "execution_count": 32,
   "metadata": {},
   "outputs": [
    {
     "data": {
      "text/plain": [
       "array([[ 4.3025375 ],\n",
       "       [ 4.95828946],\n",
       "       [ 1.67952971],\n",
       "       [ 2.99103361],\n",
       "       [15.12244466],\n",
       "       [ 0.69590179],\n",
       "       [ 8.56492518],\n",
       "       [ 8.23704919],\n",
       "       [15.7781966 ],\n",
       "       [ 7.90917322]])"
      ]
     },
     "execution_count": 32,
     "metadata": {},
     "output_type": "execute_result"
    }
   ],
   "source": [
    "W=regr.coef_\n",
    "b=regr.intercept_\n",
    "W*X_test+b"
   ]
  },
  {
   "cell_type": "markdown",
   "metadata": {},
   "source": [
    "2. 並計算出測試階段的MSE"
   ]
  },
  {
   "cell_type": "code",
   "execution_count": 33,
   "metadata": {},
   "outputs": [
    {
     "name": "stdout",
     "output_type": "stream",
     "text": [
      "0.41344072565862955\n"
     ]
    }
   ],
   "source": [
    "mse = np.sum((Y_test-y_test)**2) / len(y_test)\n",
    "print(mse)"
   ]
  },
  {
   "cell_type": "markdown",
   "metadata": {},
   "source": [
    "3. 畫出目標點(藍色)與預測點(紅色)的對應圖\n",
    "![](images/LR_test.PNG)"
   ]
  },
  {
   "cell_type": "code",
   "execution_count": 34,
   "metadata": {},
   "outputs": [
    {
     "data": {
      "text/plain": [
       "<matplotlib.legend.Legend at 0x2d2e8f24610>"
      ]
     },
     "execution_count": 34,
     "metadata": {},
     "output_type": "execute_result"
    },
    {
     "data": {
      "image/png": "[encoded data removed]",
      "text/plain": [
       "<Figure size 640x480 with 1 Axes>"
      ]
     },
     "metadata": {},
     "output_type": "display_data"
    }
   ],
   "source": [
    "title='y=wx+b'+',mse:'+str(round(mse,2))\n",
    "plt.title(title)\n",
    "plt.xlabel('x')\n",
    "plt.ylabel('y')\n",
    "#plt.grid(True)\n",
    "plt.scatter(x_test, y_test,alpha=0.8,label='Ground Truth')\n",
    "plt.scatter(x_test, Y_test, c='r', alpha=0.8,label='Predict')\n",
    "plt.legend()"
   ]
  },
  {
   "cell_type": "code",
   "execution_count": null,
   "metadata": {},
   "outputs": [],
   "source": []
  }
 ],
 "metadata": {
  "kernelspec": {
   "display_name": "Python 3 (ipykernel)",
   "language": "python",
   "name": "python3"
  },
  "language_info": {
   "codemirror_mode": {
    "name": "ipython",
    "version": 3
   },
   "file_extension": ".py",
   "mimetype": "text/x-python",
   "name": "python",
   "nbconvert_exporter": "python",
   "pygments_lexer": "ipython3",
   "version": "3.11.5"
  }
 },
 "nbformat": 4,
 "nbformat_minor": 4
}
